{
 "cells": [
  {
   "cell_type": "code",
   "execution_count": 1,
   "metadata": {},
   "outputs": [
    {
     "name": "stderr",
     "output_type": "stream",
     "text": [
      "/home/prawater/.local/lib/python3.13/site-packages/tqdm/auto.py:21: TqdmWarning: IProgress not found. Please update jupyter and ipywidgets. See https://ipywidgets.readthedocs.io/en/stable/user_install.html\n",
      "  from .autonotebook import tqdm as notebook_tqdm\n"
     ]
    }
   ],
   "source": [
    "from dotenv import load_dotenv\n",
    "from langchain_google_genai import ChatGoogleGenerativeAI\n",
    "\n",
    "load_dotenv()\n",
    "model = ChatGoogleGenerativeAI(model=\"gemini-1.5-flash\")"
   ]
  },
  {
   "cell_type": "code",
   "execution_count": null,
   "metadata": {},
   "outputs": [
    {
     "name": "stdout",
     "output_type": "stream",
     "text": [
      "First API Response:\n",
      "{'name': 'Almonds', 'weight': 50}\n",
      "Second API Response:\n",
      "{'calories': 165, 'proteins': 6, 'fats': 14, 'carbohydrates': 6, 'dietary_fiber': 3.5, 'sugars': 1, 'sodium': 1, 'cholesterol': 0}\n"
     ]
    }
   ],
   "source": [
    "from langchain_core.output_parsers import JsonOutputParser\n",
    "from pydantic import BaseModel, Field\n",
    "from langchain_core.messages import HumanMessage\n",
    "import base64\n",
    "\n",
    "class FoodIdentification(BaseModel):\n",
    "    name: str = Field(description=\"Name of the food item\")\n",
    "    weight: float = Field(description=\"Estimated weight of the food item in grams\")\n",
    "\n",
    "class CalorieAnalysis(BaseModel):\n",
    "    calories: float = Field(description=\"Calorie content of the food sample in kcal\")\n",
    "    proteins: float = Field(description=\"Protein content of the food sample in g\")\n",
    "    fats: float = Field(description=\"Fats content of the food sample in g\")\n",
    "    carbohydrates: float = Field(description=\"Carbohydrate content of the food sample in g\")\n",
    "    dietary_fiber: float = Field(description=\"Fiber content of the food sample in g\")\n",
    "    sugars: float = Field(description=\"Sugar content of the food sample in g\")\n",
    "    sodium: float = Field(description=\"Sodium content of the food sample in mg\")\n",
    "    cholesterol: float = Field(description=\"Cholesterol content of the food sample in mg\")\n",
    "\n",
    "food_parser = JsonOutputParser(pydantic_object=FoodIdentification)\n",
    "calorie_parser = JsonOutputParser(pydantic_object=CalorieAnalysis)\n",
    "\n",
    "image_file = \"./badam.jpg\"\n",
    "with open(image_file, \"rb\") as image_file:\n",
    "    image_data = image_file.read()\n",
    "base64_image = base64.b64encode(image_data).decode('utf-8')\n",
    "\n",
    "image_url = f\"data:image/jpeg;base64,{base64_image}\"\n",
    "\n",
    "\n",
    "identification_prompt = HumanMessage(content=[\n",
    "    {\"type\": \"image_url\", \"image_url\": image_url},\n",
    "    {\n",
    "        \"type\": \"text\",\n",
    "        \"text\": f\"Step 1: Identify the food item in this image. Step 2: Estimate the weight of the food item in grams. {food_parser.get_format_instructions()}\"\n",
    "    }\n",
    "])\n",
    "\n",
    "response_1 = model.invoke([identification_prompt])\n",
    "parsed_response_1 = food_parser.parse(response_1.content)\n",
    "\n",
    "print(\"First API Response:\")\n",
    "print(parsed_response_1)\n",
    "\n",
    "food_name = parsed_response_1['name']\n",
    "weight = parsed_response_1['weight']\n",
    "\n",
    "analysis_prompt = HumanMessage(content=[\n",
    "    {\n",
    "        \"type\": \"text\",\n",
    "        \"text\": f\"You have identified the food item as '{food_name}' weighing approximately {weight} grams. Provide a detailed nutritional analysis, including calories, proteins, fats, carbohydrates, dietary fiber, sugars, sodium, and cholesterol. {calorie_parser.get_format_instructions()}\"\n",
    "    }\n",
    "])\n",
    "\n",
    "response_2 = model.invoke([analysis_prompt])\n",
    "parsed_response_2 = calorie_parser.parse(response_2.content)\n",
    "\n",
    "print(\"Second API Response:\")\n",
    "print(parsed_response_2)"
   ]
  }
 ],
 "metadata": {
  "kernelspec": {
   "display_name": "Python 3",
   "language": "python",
   "name": "python3"
  },
  "language_info": {
   "codemirror_mode": {
    "name": "ipython",
    "version": 3
   },
   "file_extension": ".py",
   "mimetype": "text/x-python",
   "name": "python",
   "nbconvert_exporter": "python",
   "pygments_lexer": "ipython3",
   "version": "3.13.0"
  }
 },
 "nbformat": 4,
 "nbformat_minor": 2
}
