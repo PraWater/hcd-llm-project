{
 "cells": [
  {
   "cell_type": "code",
   "execution_count": 1,
   "metadata": {},
   "outputs": [
    {
     "name": "stderr",
     "output_type": "stream",
     "text": [
      "/home/prawater/.local/lib/python3.13/site-packages/tqdm/auto.py:21: TqdmWarning: IProgress not found. Please update jupyter and ipywidgets. See https://ipywidgets.readthedocs.io/en/stable/user_install.html\n",
      "  from .autonotebook import tqdm as notebook_tqdm\n"
     ]
    }
   ],
   "source": [
    "from dotenv import load_dotenv\n",
    "from langchain_google_genai import ChatGoogleGenerativeAI\n",
    "\n",
    "load_dotenv()\n",
    "model = ChatGoogleGenerativeAI(model=\"gemini-1.5-flash\")"
   ]
  },
  {
   "cell_type": "code",
   "execution_count": null,
   "metadata": {},
   "outputs": [
    {
     "name": "stdout",
     "output_type": "stream",
     "text": [
      "{'summary': 'Based on the provided data, your 24-hour dietary intake consists primarily of almonds and a small amount of lozenges.  The almond intake provides a moderate amount of calories, protein, and healthy fats, while the lozenges contribute minimal nutrients.', 'deviations': 'Your current calorie intake is significantly below your goal of 1500 kcal.  While the almond consumption provides healthy fats, the total fat intake needs further evaluation to determine if it aligns with your fat reduction goal.  The sugar intake appears low, aligning with your goal in that aspect.', 'suggestions': \"To reach your 1500 kcal goal, you need to substantially increase your food intake throughout the day. Focus on nutrient-dense foods that are lower in fat and added sugar.  Consider incorporating more fruits, vegetables, lean proteins (chicken, fish, beans, lentils), and whole grains.  It's important to spread your calorie intake across multiple meals and snacks.  Keep a detailed food diary for a few days to get a more comprehensive picture of your eating habits.  Consider consulting a registered dietitian for personalized guidance and meal planning to help you achieve your goals safely and effectively.  It's also important to note that the provided data represents a very limited 24-hour period and may not be fully representative of your typical dietary intake.\"}\n"
     ]
    }
   ],
   "source": [
    "from langchain_core.output_parsers import JsonOutputParser\n",
    "from pydantic import BaseModel, Field\n",
    "from langchain_core.messages import HumanMessage\n",
    "\n",
    "class DietarySummary(BaseModel):\n",
    "    summary: str = Field(description=\"A high-level summary of the user's diet in the past 24 hours\")\n",
    "    deviations: str = Field(description=\"Any deviations from the user's stated goals\")\n",
    "    suggestions: str = Field(description=\"Suggestions for the user to meet their goals more effectively\")\n",
    "\n",
    "summary_parser = JsonOutputParser(pydantic_object=DietarySummary)\n",
    "\n",
    "user_goals = \"maintain a calorie intake of 1500 kcal per day while focusing on reducing sugar and fat consumption.\"\n",
    "\n",
    "rows = [\n",
    "    {\n",
    "        \"calories\": \"160 kcal\",\n",
    "        \"carbohydrates\": \"6g\",\n",
    "        \"cholesterol\": \"0mg\",\n",
    "        \"dietary_fiber\": \"3.5g\",\n",
    "        \"fats\": \"14g\",\n",
    "        \"id\": 1,\n",
    "        \"name\": \"Almonds\",\n",
    "        \"proteins\": \"6g\",\n",
    "        \"sodium\": \"0mg\",\n",
    "        \"sugars\": \"1g\",\n",
    "        \"timestamp\": \"2024-11-24 11:39:54\",\n",
    "    },\n",
    "]\n",
    "\n",
    "prompt_text = f\"\"\"\n",
    "You are a professional dietitian assisting a user in analyzing their dietary intake over the past 24 hours. The user has the following fitness goals:\n",
    "{user_goals}\n",
    "\n",
    "Based on the data below, provide:\n",
    "1. A high-level summary of the user's diet.\n",
    "2. Any deviations from their stated goals.\n",
    "3. Suggestions to help them better align with their goals.\n",
    "\n",
    "Dietary intake data:\n",
    "{rows}\n",
    "\n",
    "Format your response in the following JSON structure:\n",
    "{summary_parser.get_format_instructions()}\n",
    "\"\"\"\n",
    "\n",
    "combined_prompt = HumanMessage(content=[\n",
    "    {\n",
    "        \"type\": \"text\",\n",
    "        \"text\": prompt_text\n",
    "    }\n",
    "])\n",
    "\n",
    "response = model.invoke([combined_prompt])\n",
    "parsed_response = summary_parser.parse(response.content)\n",
    "\n",
    "print(parsed_response)"
   ]
  }
 ],
 "metadata": {
  "kernelspec": {
   "display_name": "Python 3",
   "language": "python",
   "name": "python3"
  },
  "language_info": {
   "codemirror_mode": {
    "name": "ipython",
    "version": 3
   },
   "file_extension": ".py",
   "mimetype": "text/x-python",
   "name": "python",
   "nbconvert_exporter": "python",
   "pygments_lexer": "ipython3",
   "version": "3.13.0"
  }
 },
 "nbformat": 4,
 "nbformat_minor": 2
}
