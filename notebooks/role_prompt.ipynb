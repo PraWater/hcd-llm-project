{
 "cells": [
  {
   "cell_type": "code",
   "execution_count": 1,
   "metadata": {},
   "outputs": [
    {
     "name": "stderr",
     "output_type": "stream",
     "text": [
      "/home/prawater/.local/lib/python3.13/site-packages/tqdm/auto.py:21: TqdmWarning: IProgress not found. Please update jupyter and ipywidgets. See https://ipywidgets.readthedocs.io/en/stable/user_install.html\n",
      "  from .autonotebook import tqdm as notebook_tqdm\n"
     ]
    }
   ],
   "source": [
    "from dotenv import load_dotenv\n",
    "from langchain_google_genai import ChatGoogleGenerativeAI\n",
    "\n",
    "load_dotenv()\n",
    "model = ChatGoogleGenerativeAI(model=\"gemini-1.5-flash\")"
   ]
  },
  {
   "cell_type": "code",
   "execution_count": 3,
   "metadata": {},
   "outputs": [
    {
     "name": "stdout",
     "output_type": "stream",
     "text": [
      "{'name': 'Almonds', 'calories': '200', 'proteins': '6g', 'fats': '14g', 'carbohydrates': '6g', 'dietary_fiber': '4g', 'sugars': '1g', 'sodium': '0mg', 'cholesterol': '0mg'}\n"
     ]
    }
   ],
   "source": [
    "from langchain_core.output_parsers import JsonOutputParser\n",
    "from pydantic import BaseModel, Field\n",
    "from langchain_core.messages import HumanMessage\n",
    "import base64\n",
    "\n",
    "image_file = \"./badam.jpg\"\n",
    "with open(image_file, \"rb\") as image_file:\n",
    "    image_data = image_file.read()\n",
    "base64_image = base64.b64encode(image_data).decode('utf-8')\n",
    "\n",
    "image_url = f\"data:image/jpeg;base64,{base64_image}\"\n",
    "\n",
    "class CalorieAnalysis(BaseModel):\n",
    "    name: str = Field(description=\"name of food sample in the image in kcal\")\n",
    "    calories: str = Field(description=\"calorie content of food sample in g\")\n",
    "    proteins: str = Field(description=\"protein content of food sample in g\")\n",
    "    fats: str = Field(description=\"fats content of food sample in g\")\n",
    "    carbohydrates: str = Field(description=\"carbohydrate content of food sample in g\")\n",
    "    dietary_fiber: str = Field(description=\"fiber content of food sample in g\")\n",
    "    sugars: str = Field(description=\"sugar content of food sample in g\")\n",
    "    sodium: str = Field(description=\"sodium content of food sample in mg\")\n",
    "    cholesterol: str = Field(description=\"cholesterol content of food sample in mg\")\n",
    "\n",
    "json_parser = JsonOutputParser(pydantic_object=CalorieAnalysis)\n",
    "\n",
    "text_prompt = f\"You are an expert dietician and you are helping your client estimate the amount of calories they are about to consume. The client requires accurate information for helping them achieve their fitness goals which you are responsible for. Estimate the amount of calories in this image. Step 1: Identify the food item in this image. Step 2: Estimate the weight (in grams) of the food item. Step 3: Now estimate the calorie count using the weight from step 2. Step 4: Now divide the content into calories, proteins, fats, etc. {json_parser.get_format_instructions()}\"\n",
    "\n",
    "combined_prompt = HumanMessage(content=[\n",
    "        {\"type\": \"image_url\", \"image_url\": image_url},\n",
    "        {\n",
    "            \"type\": \"text\",\n",
    "            \"text\": text_prompt\n",
    "        }\n",
    "    ])\n",
    "\n",
    "response = model.invoke([combined_prompt])\n",
    "parsed_response = json_parser.parse(response.content)\n",
    "\n",
    "print(parsed_response)"
   ]
  }
 ],
 "metadata": {
  "kernelspec": {
   "display_name": "Python 3",
   "language": "python",
   "name": "python3"
  },
  "language_info": {
   "codemirror_mode": {
    "name": "ipython",
    "version": 3
   },
   "file_extension": ".py",
   "mimetype": "text/x-python",
   "name": "python",
   "nbconvert_exporter": "python",
   "pygments_lexer": "ipython3",
   "version": "3.13.0"
  }
 },
 "nbformat": 4,
 "nbformat_minor": 2
}
